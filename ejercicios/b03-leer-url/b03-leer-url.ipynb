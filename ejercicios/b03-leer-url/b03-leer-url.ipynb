{
 "cells": [
  {
   "cell_type": "markdown",
   "id": "f9b47049",
   "metadata": {},
   "source": [
    "# Leer y escribir fichero CSV"
   ]
  },
  {
   "cell_type": "code",
   "execution_count": 1,
   "id": "7c7b8f79",
   "metadata": {},
   "outputs": [],
   "source": [
    "import pandas as pd"
   ]
  },
  {
   "cell_type": "code",
   "execution_count": 2,
   "id": "714b1196",
   "metadata": {},
   "outputs": [],
   "source": [
    "dataUrl = \"https://raw.githubusercontent.com/dbgjerez/ml-learning/main/ejercicios/b03-leer-url/data.csv\""
   ]
  },
  {
   "cell_type": "code",
   "execution_count": 3,
   "id": "93bbea86",
   "metadata": {},
   "outputs": [],
   "source": [
    "dataset = pd.read_csv(dataUrl)"
   ]
  },
  {
   "cell_type": "code",
   "execution_count": 4,
   "id": "b21fd57d",
   "metadata": {},
   "outputs": [
    {
     "data": {
      "text/html": [
       "<div>\n",
       "<style scoped>\n",
       "    .dataframe tbody tr th:only-of-type {\n",
       "        vertical-align: middle;\n",
       "    }\n",
       "\n",
       "    .dataframe tbody tr th {\n",
       "        vertical-align: top;\n",
       "    }\n",
       "\n",
       "    .dataframe thead th {\n",
       "        text-align: right;\n",
       "    }\n",
       "</style>\n",
       "<table border=\"1\" class=\"dataframe\">\n",
       "  <thead>\n",
       "    <tr style=\"text-align: right;\">\n",
       "      <th></th>\n",
       "      <th>title</th>\n",
       "      <th>pages</th>\n",
       "    </tr>\n",
       "  </thead>\n",
       "  <tbody>\n",
       "    <tr>\n",
       "      <th>0</th>\n",
       "      <td>La Comunidad del Anillo</td>\n",
       "      <td>488</td>\n",
       "    </tr>\n",
       "    <tr>\n",
       "      <th>1</th>\n",
       "      <td>Las dos torres</td>\n",
       "      <td>408</td>\n",
       "    </tr>\n",
       "    <tr>\n",
       "      <th>2</th>\n",
       "      <td>El retorno del Rey</td>\n",
       "      <td>520</td>\n",
       "    </tr>\n",
       "  </tbody>\n",
       "</table>\n",
       "</div>"
      ],
      "text/plain": [
       "                     title  pages\n",
       "0  La Comunidad del Anillo    488\n",
       "1           Las dos torres    408\n",
       "2       El retorno del Rey    520"
      ]
     },
     "execution_count": 4,
     "metadata": {},
     "output_type": "execute_result"
    }
   ],
   "source": [
    "dataset.head()"
   ]
  },
  {
   "cell_type": "code",
   "execution_count": null,
   "id": "38332c08",
   "metadata": {},
   "outputs": [],
   "source": []
  }
 ],
 "metadata": {
  "kernelspec": {
   "display_name": "Python 3 (ipykernel)",
   "language": "python",
   "name": "python3"
  },
  "language_info": {
   "codemirror_mode": {
    "name": "ipython",
    "version": 3
   },
   "file_extension": ".py",
   "mimetype": "text/x-python",
   "name": "python",
   "nbconvert_exporter": "python",
   "pygments_lexer": "ipython3",
   "version": "3.9.7"
  }
 },
 "nbformat": 4,
 "nbformat_minor": 5
}
