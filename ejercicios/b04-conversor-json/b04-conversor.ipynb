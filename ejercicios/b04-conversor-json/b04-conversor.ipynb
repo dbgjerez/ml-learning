{
 "cells": [
  {
   "cell_type": "markdown",
   "id": "a3943fb1",
   "metadata": {},
   "source": [
    "# Conversor de CSV/XLS a JSON"
   ]
  },
  {
   "cell_type": "code",
   "execution_count": 2,
   "id": "f68ad4b3",
   "metadata": {},
   "outputs": [],
   "source": [
    "import pandas as pd"
   ]
  },
  {
   "cell_type": "code",
   "execution_count": 3,
   "id": "0f54ad36",
   "metadata": {},
   "outputs": [],
   "source": [
    "dataUrl = \"https://raw.githubusercontent.com/dbgjerez/ml-learning/main/ejercicios/b03-leer-url/data.csv\""
   ]
  },
  {
   "cell_type": "markdown",
   "id": "c2404813",
   "metadata": {},
   "source": [
    "## Import with read_csv or read_excel"
   ]
  },
  {
   "cell_type": "code",
   "execution_count": 7,
   "id": "b9d96752",
   "metadata": {},
   "outputs": [],
   "source": [
    "df = pd.read_csv(dataUrl)"
   ]
  },
  {
   "cell_type": "markdown",
   "id": "f6306312",
   "metadata": {},
   "source": [
    "## dataframe to desired format"
   ]
  },
  {
   "cell_type": "code",
   "execution_count": 9,
   "id": "0be69f48",
   "metadata": {},
   "outputs": [],
   "source": [
    "json = df.to_json()"
   ]
  },
  {
   "cell_type": "markdown",
   "id": "e6543915",
   "metadata": {},
   "source": [
    "## print or write the output"
   ]
  },
  {
   "cell_type": "code",
   "execution_count": 11,
   "id": "622efd55",
   "metadata": {},
   "outputs": [
    {
     "name": "stdout",
     "output_type": "stream",
     "text": [
      "{\"title\":{\"0\":\"La Comunidad del Anillo\",\"1\":\"Las dos torres\",\"2\":\"El retorno del Rey\"},\"pages\":{\"0\":488,\"1\":408,\"2\":520}}\n"
     ]
    }
   ],
   "source": [
    "print(json)"
   ]
  },
  {
   "cell_type": "code",
   "execution_count": null,
   "id": "c06c14f8",
   "metadata": {},
   "outputs": [],
   "source": []
  }
 ],
 "metadata": {
  "kernelspec": {
   "display_name": "Python 3 (ipykernel)",
   "language": "python",
   "name": "python3"
  },
  "language_info": {
   "codemirror_mode": {
    "name": "ipython",
    "version": 3
   },
   "file_extension": ".py",
   "mimetype": "text/x-python",
   "name": "python",
   "nbconvert_exporter": "python",
   "pygments_lexer": "ipython3",
   "version": "3.9.7"
  }
 },
 "nbformat": 4,
 "nbformat_minor": 5
}
