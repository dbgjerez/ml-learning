{
 "cells": [
  {
   "cell_type": "markdown",
   "id": "bc40702d",
   "metadata": {},
   "source": [
    "# Modelo de Regresión lineal\n",
    "\n",
    "\n",
    "**Formula Regresión lineal**: $$ y = a + b * x $$\n",
    "\n",
    "Datos simulados:\n",
    "* X: 100 valores distribuídos según una N(1.5, 2.5)\n",
    "* Ye = 5 + 1.9 * x + e\n",
    "* e estará distribuído según una N(0, 0.8)"
   ]
  },
  {
   "cell_type": "code",
   "execution_count": 2,
   "id": "f422545b",
   "metadata": {},
   "outputs": [],
   "source": [
    "import pandas as pd\n",
    "import numpy as np"
   ]
  },
  {
   "cell_type": "code",
   "execution_count": 3,
   "id": "892e1208",
   "metadata": {},
   "outputs": [],
   "source": [
    "n = 100\n",
    "seed = 2022"
   ]
  },
  {
   "cell_type": "code",
   "execution_count": 4,
   "id": "f813294e",
   "metadata": {},
   "outputs": [],
   "source": [
    "np.random.seed(seed)\n",
    "x = 1.5 + 2.5 * np.random.randn(n)\n",
    "res = 0 + 0.8 * np.random.randn(n)\n",
    "y_pred = 5 + 1.9 * x\n",
    "y_act = 5 + 1.9 * x + res"
   ]
  },
  {
   "cell_type": "code",
   "execution_count": 5,
   "id": "0f746a7e",
   "metadata": {},
   "outputs": [],
   "source": [
    "x_list = x.tolist()\n",
    "y_pred_list = y_pred.tolist()\n",
    "y_act_list = y_act.tolist()"
   ]
  },
  {
   "cell_type": "code",
   "execution_count": 6,
   "id": "5e5e466c",
   "metadata": {},
   "outputs": [],
   "source": [
    "data = pd.DataFrame(\n",
    "    {\n",
    "        \"x\": x_list,\n",
    "        \"y\": y_act_list,\n",
    "        \"y_pred\": y_pred_list\n",
    "    }\n",
    ")"
   ]
  },
  {
   "cell_type": "code",
   "execution_count": 7,
   "id": "58bc3c60",
   "metadata": {},
   "outputs": [
    {
     "data": {
      "text/html": [
       "<div>\n",
       "<style scoped>\n",
       "    .dataframe tbody tr th:only-of-type {\n",
       "        vertical-align: middle;\n",
       "    }\n",
       "\n",
       "    .dataframe tbody tr th {\n",
       "        vertical-align: top;\n",
       "    }\n",
       "\n",
       "    .dataframe thead th {\n",
       "        text-align: right;\n",
       "    }\n",
       "</style>\n",
       "<table border=\"1\" class=\"dataframe\">\n",
       "  <thead>\n",
       "    <tr style=\"text-align: right;\">\n",
       "      <th></th>\n",
       "      <th>x</th>\n",
       "      <th>y</th>\n",
       "      <th>y_pred</th>\n",
       "    </tr>\n",
       "  </thead>\n",
       "  <tbody>\n",
       "    <tr>\n",
       "      <th>0</th>\n",
       "      <td>1.498680</td>\n",
       "      <td>7.617975</td>\n",
       "      <td>7.847492</td>\n",
       "    </tr>\n",
       "    <tr>\n",
       "      <th>1</th>\n",
       "      <td>0.812746</td>\n",
       "      <td>5.231279</td>\n",
       "      <td>6.544218</td>\n",
       "    </tr>\n",
       "    <tr>\n",
       "      <th>2</th>\n",
       "      <td>1.151786</td>\n",
       "      <td>5.576800</td>\n",
       "      <td>7.188394</td>\n",
       "    </tr>\n",
       "    <tr>\n",
       "      <th>3</th>\n",
       "      <td>6.461715</td>\n",
       "      <td>16.972716</td>\n",
       "      <td>17.277259</td>\n",
       "    </tr>\n",
       "    <tr>\n",
       "      <th>4</th>\n",
       "      <td>2.205273</td>\n",
       "      <td>9.862580</td>\n",
       "      <td>9.190019</td>\n",
       "    </tr>\n",
       "  </tbody>\n",
       "</table>\n",
       "</div>"
      ],
      "text/plain": [
       "          x          y     y_pred\n",
       "0  1.498680   7.617975   7.847492\n",
       "1  0.812746   5.231279   6.544218\n",
       "2  1.151786   5.576800   7.188394\n",
       "3  6.461715  16.972716  17.277259\n",
       "4  2.205273   9.862580   9.190019"
      ]
     },
     "execution_count": 7,
     "metadata": {},
     "output_type": "execute_result"
    }
   ],
   "source": [
    "data.head()"
   ]
  },
  {
   "cell_type": "code",
   "execution_count": 8,
   "id": "28ed11b6",
   "metadata": {},
   "outputs": [],
   "source": [
    "import matplotlib.pyplot as plt"
   ]
  },
  {
   "cell_type": "code",
   "execution_count": 9,
   "id": "77463fe5",
   "metadata": {},
   "outputs": [
    {
     "data": {
      "text/plain": [
       "Text(0.5, 1.0, 'Valor actual vs valor predicción')"
      ]
     },
     "execution_count": 9,
     "metadata": {},
     "output_type": "execute_result"
    },
    {
     "data": {
      "image/png": "[encoded data removed]",
      "text/plain": [
       "<Figure size 432x288 with 1 Axes>"
      ]
     },
     "metadata": {
      "needs_background": "light"
     },
     "output_type": "display_data"
    }
   ],
   "source": [
    "%matplotlib inline\n",
    "plt.plot(x, y_pred)\n",
    "plt.plot(x, y_act, \"ro\")\n",
    "plt.title(\"Valor actual vs valor predicción\")"
   ]
  },
  {
   "cell_type": "markdown",
   "id": "11090f11",
   "metadata": {},
   "source": [
    "## Añado la media al gráfico para calcular SSR, SSD y SST"
   ]
  },
  {
   "cell_type": "code",
   "execution_count": 10,
   "id": "67ca1e52",
   "metadata": {},
   "outputs": [],
   "source": [
    "y_mean = [np.mean(y_act) for i in range (1, len(x_list) + 1)]"
   ]
  },
  {
   "cell_type": "code",
   "execution_count": 11,
   "id": "85906cb0",
   "metadata": {},
   "outputs": [
    {
     "data": {
      "text/plain": [
       "Text(0.5, 1.0, 'Valor actual vs valor predicción')"
      ]
     },
     "execution_count": 11,
     "metadata": {},
     "output_type": "execute_result"
    },
    {
     "data": {
      "image/png": "[encoded data removed]",
      "text/plain": [
       "<Figure size 432x288 with 1 Axes>"
      ]
     },
     "metadata": {
      "needs_background": "light"
     },
     "output_type": "display_data"
    }
   ],
   "source": [
    "%matplotlib inline\n",
    "plt.plot(x, y_pred)\n",
    "plt.plot(x, y_act, \"ro\")\n",
    "plt.plot(x, y_mean, \"g\")\n",
    "plt.title(\"Valor actual vs valor predicción\")"
   ]
  },
  {
   "cell_type": "markdown",
   "id": "8a36a259",
   "metadata": {},
   "source": [
    "## Calculamos valores"
   ]
  },
  {
   "cell_type": "code",
   "execution_count": 12,
   "id": "e1dc1181",
   "metadata": {},
   "outputs": [],
   "source": [
    "data[\"SSR\"] = (data[\"y_pred\"]-np.mean(y_act))**2\n",
    "data[\"SSD\"] = (data[\"y_pred\"]-data[\"y\"])**2\n",
    "data[\"SST\"] = (data[\"y\"]-np.mean(y_act))**2"
   ]
  },
  {
   "cell_type": "code",
   "execution_count": 13,
   "id": "b3474382",
   "metadata": {},
   "outputs": [
    {
     "data": {
      "text/html": [
       "<div>\n",
       "<style scoped>\n",
       "    .dataframe tbody tr th:only-of-type {\n",
       "        vertical-align: middle;\n",
       "    }\n",
       "\n",
       "    .dataframe tbody tr th {\n",
       "        vertical-align: top;\n",
       "    }\n",
       "\n",
       "    .dataframe thead th {\n",
       "        text-align: right;\n",
       "    }\n",
       "</style>\n",
       "<table border=\"1\" class=\"dataframe\">\n",
       "  <thead>\n",
       "    <tr style=\"text-align: right;\">\n",
       "      <th></th>\n",
       "      <th>x</th>\n",
       "      <th>y</th>\n",
       "      <th>y_pred</th>\n",
       "      <th>SSR</th>\n",
       "      <th>SSD</th>\n",
       "      <th>SST</th>\n",
       "    </tr>\n",
       "  </thead>\n",
       "  <tbody>\n",
       "    <tr>\n",
       "      <th>0</th>\n",
       "      <td>1.498680</td>\n",
       "      <td>7.617975</td>\n",
       "      <td>7.847492</td>\n",
       "      <td>0.000818</td>\n",
       "      <td>0.052678</td>\n",
       "      <td>0.040368</td>\n",
       "    </tr>\n",
       "    <tr>\n",
       "      <th>1</th>\n",
       "      <td>0.812746</td>\n",
       "      <td>5.231279</td>\n",
       "      <td>6.544218</td>\n",
       "      <td>1.624794</td>\n",
       "      <td>1.723810</td>\n",
       "      <td>6.695744</td>\n",
       "    </tr>\n",
       "    <tr>\n",
       "      <th>2</th>\n",
       "      <td>1.151786</td>\n",
       "      <td>5.576800</td>\n",
       "      <td>7.188394</td>\n",
       "      <td>0.397529</td>\n",
       "      <td>2.597233</td>\n",
       "      <td>5.026977</td>\n",
       "    </tr>\n",
       "    <tr>\n",
       "      <th>3</th>\n",
       "      <td>6.461715</td>\n",
       "      <td>16.972716</td>\n",
       "      <td>17.277259</td>\n",
       "      <td>89.460706</td>\n",
       "      <td>0.092746</td>\n",
       "      <td>83.792496</td>\n",
       "    </tr>\n",
       "    <tr>\n",
       "      <th>4</th>\n",
       "      <td>2.205273</td>\n",
       "      <td>9.862580</td>\n",
       "      <td>9.190019</td>\n",
       "      <td>1.879989</td>\n",
       "      <td>0.452337</td>\n",
       "      <td>4.176658</td>\n",
       "    </tr>\n",
       "  </tbody>\n",
       "</table>\n",
       "</div>"
      ],
      "text/plain": [
       "          x          y     y_pred        SSR       SSD        SST\n",
       "0  1.498680   7.617975   7.847492   0.000818  0.052678   0.040368\n",
       "1  0.812746   5.231279   6.544218   1.624794  1.723810   6.695744\n",
       "2  1.151786   5.576800   7.188394   0.397529  2.597233   5.026977\n",
       "3  6.461715  16.972716  17.277259  89.460706  0.092746  83.792496\n",
       "4  2.205273   9.862580   9.190019   1.879989  0.452337   4.176658"
      ]
     },
     "execution_count": 13,
     "metadata": {},
     "output_type": "execute_result"
    }
   ],
   "source": [
    "data.head()"
   ]
  },
  {
   "cell_type": "code",
   "execution_count": 14,
   "id": "2d358803",
   "metadata": {},
   "outputs": [],
   "source": [
    "SSR = sum(data[\"SSR\"])\n",
    "SSD = sum(data[\"SSD\"])\n",
    "SST = sum(data[\"SST\"])\n",
    "R2 = SSR/SST"
   ]
  },
  {
   "cell_type": "code",
   "execution_count": 15,
   "id": "38b4067b",
   "metadata": {},
   "outputs": [
    {
     "data": {
      "text/plain": [
       "0.9464679547716774"
      ]
     },
     "execution_count": 15,
     "metadata": {},
     "output_type": "execute_result"
    }
   ],
   "source": [
    "R2"
   ]
  },
  {
   "cell_type": "markdown",
   "id": "73e6b36b",
   "metadata": {},
   "source": [
    "> NOTE: el valor es 0.94, es muy buen valor ya que hemos creado los valores de forma artificial"
   ]
  },
  {
   "cell_type": "code",
   "execution_count": 17,
   "id": "8add61c9",
   "metadata": {},
   "outputs": [
    {
     "data": {
      "text/plain": [
       "0.8023183632725057"
      ]
     },
     "execution_count": 17,
     "metadata": {},
     "output_type": "execute_result"
    }
   ],
   "source": [
    "RSE = np.sqrt(SSD/(len(data)-2))\n",
    "RSE"
   ]
  },
  {
   "cell_type": "code",
   "execution_count": 18,
   "id": "0eab3fa8",
   "metadata": {},
   "outputs": [
    {
     "data": {
      "text/plain": [
       "0.10261279174276836"
      ]
     },
     "execution_count": 18,
     "metadata": {},
     "output_type": "execute_result"
    }
   ],
   "source": [
    "RSE / np.mean(data[\"y\"])"
   ]
  },
  {
   "cell_type": "markdown",
   "id": "eaf7a3e8",
   "metadata": {},
   "source": [
    "> NOTE: 10% de error"
   ]
  },
  {
   "cell_type": "code",
   "execution_count": null,
   "id": "38222ee6",
   "metadata": {},
   "outputs": [],
   "source": []
  }
 ],
 "metadata": {
  "kernelspec": {
   "display_name": "Python 3 (ipykernel)",
   "language": "python",
   "name": "python3"
  },
  "language_info": {
   "codemirror_mode": {
    "name": "ipython",
    "version": 3
   },
   "file_extension": ".py",
   "mimetype": "text/x-python",
   "name": "python",
   "nbconvert_exporter": "python",
   "pygments_lexer": "ipython3",
   "version": "3.9.7"
  }
 },
 "nbformat": 4,
 "nbformat_minor": 5
}
