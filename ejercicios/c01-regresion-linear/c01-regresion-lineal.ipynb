{
 "cells": [
  {
   "cell_type": "markdown",
   "id": "a233b6e4",
   "metadata": {},
   "source": [
    "# Modelo de Regresión lineal\n",
    "\n",
    "\n",
    "**Formula Regresión lineal**: $$ y = a + b * x $$\n",
    "\n",
    "Datos simulados:\n",
    "* X: 100 valores distribuídos según una N(1.5, 2.5)\n",
    "* Ye = 5 + 1.9 * x + e\n",
    "* e estará distribuído según una N(0, 0.8)"
   ]
  },
  {
   "cell_type": "code",
   "execution_count": 16,
   "id": "ccaa9812",
   "metadata": {},
   "outputs": [],
   "source": [
    "import pandas as pd\n",
    "import numpy as np"
   ]
  },
  {
   "cell_type": "code",
   "execution_count": 24,
   "id": "32480298",
   "metadata": {},
   "outputs": [],
   "source": [
    "n = 100"
   ]
  },
  {
   "cell_type": "code",
   "execution_count": 32,
   "id": "b7b73c3d",
   "metadata": {},
   "outputs": [],
   "source": [
    "x = 1.5 + 2.5 * np.random.randn(n)\n",
    "res = 0 + 0.8 * np.random.randn(n)\n",
    "y_pred = 5 + 1.9 * x\n",
    "y_act = 5 + 1.9 * x + res"
   ]
  },
  {
   "cell_type": "code",
   "execution_count": 33,
   "id": "d4042aeb",
   "metadata": {},
   "outputs": [],
   "source": [
    "x_list = x.tolist()\n",
    "y_pred_list = y_pred.tolist()\n",
    "y_act_list = y_act.tolist()"
   ]
  },
  {
   "cell_type": "code",
   "execution_count": 34,
   "id": "b3fb40a5",
   "metadata": {},
   "outputs": [],
   "source": [
    "data = pd.DataFrame(\n",
    "    {\n",
    "        \"x\": x_list,\n",
    "        \"y\": y_act_list,\n",
    "        \"y_pred\": y_pred_list\n",
    "    }\n",
    ")"
   ]
  },
  {
   "cell_type": "code",
   "execution_count": 35,
   "id": "bc4b86d8",
   "metadata": {},
   "outputs": [
    {
     "data": {
      "text/html": [
       "<div>\n",
       "<style scoped>\n",
       "    .dataframe tbody tr th:only-of-type {\n",
       "        vertical-align: middle;\n",
       "    }\n",
       "\n",
       "    .dataframe tbody tr th {\n",
       "        vertical-align: top;\n",
       "    }\n",
       "\n",
       "    .dataframe thead th {\n",
       "        text-align: right;\n",
       "    }\n",
       "</style>\n",
       "<table border=\"1\" class=\"dataframe\">\n",
       "  <thead>\n",
       "    <tr style=\"text-align: right;\">\n",
       "      <th></th>\n",
       "      <th>x</th>\n",
       "      <th>y</th>\n",
       "      <th>y_pred</th>\n",
       "    </tr>\n",
       "  </thead>\n",
       "  <tbody>\n",
       "    <tr>\n",
       "      <th>0</th>\n",
       "      <td>2.890772</td>\n",
       "      <td>10.142732</td>\n",
       "      <td>10.492468</td>\n",
       "    </tr>\n",
       "    <tr>\n",
       "      <th>1</th>\n",
       "      <td>3.731485</td>\n",
       "      <td>12.161825</td>\n",
       "      <td>12.089822</td>\n",
       "    </tr>\n",
       "    <tr>\n",
       "      <th>2</th>\n",
       "      <td>1.936025</td>\n",
       "      <td>9.359678</td>\n",
       "      <td>8.678448</td>\n",
       "    </tr>\n",
       "    <tr>\n",
       "      <th>3</th>\n",
       "      <td>1.956234</td>\n",
       "      <td>7.950244</td>\n",
       "      <td>8.716844</td>\n",
       "    </tr>\n",
       "    <tr>\n",
       "      <th>4</th>\n",
       "      <td>-0.162280</td>\n",
       "      <td>5.006807</td>\n",
       "      <td>4.691669</td>\n",
       "    </tr>\n",
       "  </tbody>\n",
       "</table>\n",
       "</div>"
      ],
      "text/plain": [
       "          x          y     y_pred\n",
       "0  2.890772  10.142732  10.492468\n",
       "1  3.731485  12.161825  12.089822\n",
       "2  1.936025   9.359678   8.678448\n",
       "3  1.956234   7.950244   8.716844\n",
       "4 -0.162280   5.006807   4.691669"
      ]
     },
     "execution_count": 35,
     "metadata": {},
     "output_type": "execute_result"
    }
   ],
   "source": [
    "data.head()"
   ]
  },
  {
   "cell_type": "code",
   "execution_count": 36,
   "id": "c5959e68",
   "metadata": {},
   "outputs": [],
   "source": [
    "import matplotlib.pyplot as plt"
   ]
  },
  {
   "cell_type": "code",
   "execution_count": 37,
   "id": "b5f8e0d1",
   "metadata": {},
   "outputs": [
    {
     "data": {
      "text/plain": [
       "Text(0.5, 1.0, 'Valor actual vs valor predicción')"
      ]
     },
     "execution_count": 37,
     "metadata": {},
     "output_type": "execute_result"
    },
    {
     "data": {
      "image/png": "[encoded data removed]",
      "text/plain": [
       "<Figure size 432x288 with 1 Axes>"
      ]
     },
     "metadata": {
      "needs_background": "light"
     },
     "output_type": "display_data"
    }
   ],
   "source": [
    "%matplotlib inline\n",
    "plt.plot(x, y_pred)\n",
    "plt.plot(x, y_act, \"ro\")\n",
    "plt.title(\"Valor actual vs valor predicción\")"
   ]
  },
  {
   "cell_type": "code",
   "execution_count": null,
   "id": "1792a23b",
   "metadata": {},
   "outputs": [],
   "source": []
  }
 ],
 "metadata": {
  "kernelspec": {
   "display_name": "Python 3 (ipykernel)",
   "language": "python",
   "name": "python3"
  },
  "language_info": {
   "codemirror_mode": {
    "name": "ipython",
    "version": 3
   },
   "file_extension": ".py",
   "mimetype": "text/x-python",
   "name": "python",
   "nbconvert_exporter": "python",
   "pygments_lexer": "ipython3",
   "version": "3.9.7"
  }
 },
 "nbformat": 4,
 "nbformat_minor": 5
}
