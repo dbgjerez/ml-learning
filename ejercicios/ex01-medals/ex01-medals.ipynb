{
 "cells": [
  {
   "cell_type": "markdown",
   "id": "2f08cee4",
   "metadata": {},
   "source": [
    "# Lectura CSV de medallas desde url externa con urllib3"
   ]
  },
  {
   "cell_type": "code",
   "execution_count": 5,
   "id": "f96c9aa9",
   "metadata": {},
   "outputs": [],
   "source": [
    "import urllib3"
   ]
  },
  {
   "cell_type": "code",
   "execution_count": 105,
   "id": "85e11f7f",
   "metadata": {},
   "outputs": [],
   "source": [
    "medals_url = \"https://raw.githubusercontent.com/dbgjerez/ml-learning/main/ejercicios/b03-leer-url/data.csv\""
   ]
  },
  {
   "cell_type": "code",
   "execution_count": 106,
   "id": "937ae743",
   "metadata": {},
   "outputs": [],
   "source": [
    "http = urllib3.PoolManager()\n",
    "r = http.request(\"GET\", medals_url)"
   ]
  },
  {
   "cell_type": "markdown",
   "id": "89ef4c73",
   "metadata": {},
   "source": [
    "## r = response"
   ]
  },
  {
   "cell_type": "code",
   "execution_count": 89,
   "id": "0e29f155",
   "metadata": {},
   "outputs": [
    {
     "name": "stdout",
     "output_type": "stream",
     "text": [
      "El estado de la respuesta es: 200\n"
     ]
    }
   ],
   "source": [
    "print(\"El estado de la respuesta es: %d\" %(r.status))"
   ]
  },
  {
   "cell_type": "markdown",
   "id": "8bfba31f",
   "metadata": {},
   "source": [
    "## recibimos un str binario en utf-8"
   ]
  },
  {
   "cell_type": "code",
   "execution_count": 110,
   "id": "e4fcd892",
   "metadata": {},
   "outputs": [],
   "source": [
    "data = r.data\n",
    "str_data = data.decode(\"utf-8\")"
   ]
  },
  {
   "cell_type": "markdown",
   "id": "bdf14066",
   "metadata": {},
   "source": [
    "## procesamos linea a linea"
   ]
  },
  {
   "cell_type": "markdown",
   "id": "c5e74536",
   "metadata": {},
   "source": [
    "### Recorro data y relleno dict cabecera"
   ]
  },
  {
   "cell_type": "code",
   "execution_count": 111,
   "id": "115ada05",
   "metadata": {},
   "outputs": [
    {
     "name": "stdout",
     "output_type": "stream",
     "text": [
      "El fichero contiene 2 columnas y 5 filas\n"
     ]
    }
   ],
   "source": [
    "res = {}\n",
    "lines = 0\n",
    "cols = []\n",
    "for line in str_data.split(\"\\n\"):\n",
    "    if lines == 0:\n",
    "        cols = line.split(\",\")\n",
    "        for col_name in cols:\n",
    "            res[col_name]=[]\n",
    "    else:\n",
    "        values = line.strip().split(\",\")\n",
    "        if len(values) == len(cols):\n",
    "            for i in range(len(cols)):\n",
    "                res[cols[i]].append(values[i])\n",
    "    lines+=1\n",
    "print(\"El fichero contiene %d columnas y %d filas\" %(len(cols), lines))"
   ]
  },
  {
   "cell_type": "markdown",
   "id": "8219e3b7",
   "metadata": {},
   "source": [
    "## Convertimos el dict a DataFrame"
   ]
  },
  {
   "cell_type": "code",
   "execution_count": 112,
   "id": "7cfd324b",
   "metadata": {},
   "outputs": [],
   "source": [
    "df = pd.DataFrame(res)"
   ]
  },
  {
   "cell_type": "code",
   "execution_count": 113,
   "id": "14901ab7",
   "metadata": {},
   "outputs": [
    {
     "data": {
      "text/html": [
       "<div>\n",
       "<style scoped>\n",
       "    .dataframe tbody tr th:only-of-type {\n",
       "        vertical-align: middle;\n",
       "    }\n",
       "\n",
       "    .dataframe tbody tr th {\n",
       "        vertical-align: top;\n",
       "    }\n",
       "\n",
       "    .dataframe thead th {\n",
       "        text-align: right;\n",
       "    }\n",
       "</style>\n",
       "<table border=\"1\" class=\"dataframe\">\n",
       "  <thead>\n",
       "    <tr style=\"text-align: right;\">\n",
       "      <th></th>\n",
       "      <th>title</th>\n",
       "      <th>pages</th>\n",
       "    </tr>\n",
       "  </thead>\n",
       "  <tbody>\n",
       "    <tr>\n",
       "      <th>0</th>\n",
       "      <td>La Comunidad del Anillo</td>\n",
       "      <td>488</td>\n",
       "    </tr>\n",
       "    <tr>\n",
       "      <th>1</th>\n",
       "      <td>Las dos torres</td>\n",
       "      <td>408</td>\n",
       "    </tr>\n",
       "    <tr>\n",
       "      <th>2</th>\n",
       "      <td>El retorno del Rey</td>\n",
       "      <td>520</td>\n",
       "    </tr>\n",
       "  </tbody>\n",
       "</table>\n",
       "</div>"
      ],
      "text/plain": [
       "                     title pages\n",
       "0  La Comunidad del Anillo   488\n",
       "1           Las dos torres   408\n",
       "2       El retorno del Rey   520"
      ]
     },
     "execution_count": 113,
     "metadata": {},
     "output_type": "execute_result"
    }
   ],
   "source": [
    "df.head()"
   ]
  },
  {
   "cell_type": "code",
   "execution_count": null,
   "id": "7f8f911b",
   "metadata": {},
   "outputs": [],
   "source": []
  }
 ],
 "metadata": {
  "kernelspec": {
   "display_name": "Python 3 (ipykernel)",
   "language": "python",
   "name": "python3"
  },
  "language_info": {
   "codemirror_mode": {
    "name": "ipython",
    "version": 3
   },
   "file_extension": ".py",
   "mimetype": "text/x-python",
   "name": "python",
   "nbconvert_exporter": "python",
   "pygments_lexer": "ipython3",
   "version": "3.9.7"
  }
 },
 "nbformat": 4,
 "nbformat_minor": 5
}
