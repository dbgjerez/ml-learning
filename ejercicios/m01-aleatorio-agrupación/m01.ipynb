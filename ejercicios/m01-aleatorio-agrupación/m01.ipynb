{
 "cells": [
  {
   "cell_type": "code",
   "execution_count": 2,
   "id": "724be636",
   "metadata": {},
   "outputs": [],
   "source": [
    "import pandas as pd\n",
    "import numpy as np"
   ]
  },
  {
   "cell_type": "markdown",
   "id": "dface481",
   "metadata": {},
   "source": [
    "# Creación de dataset"
   ]
  },
  {
   "cell_type": "code",
   "execution_count": 82,
   "id": "ff7818a3",
   "metadata": {},
   "outputs": [],
   "source": [
    "np.random.seed(2022)\n",
    "n = 100000\n",
    "genders = [\"Male\", \"Female\"]\n",
    "data = pd.DataFrame(\n",
    "    {\n",
    "        \"Gender\": np.random.choice(genders, n),\n",
    "        \"Age\": 40 + 5 * np.random.randn(n)\n",
    "    }\n",
    ")"
   ]
  },
  {
   "cell_type": "code",
   "execution_count": 83,
   "id": "e12a5ddf",
   "metadata": {},
   "outputs": [
    {
     "data": {
      "text/html": [
       "<div>\n",
       "<style scoped>\n",
       "    .dataframe tbody tr th:only-of-type {\n",
       "        vertical-align: middle;\n",
       "    }\n",
       "\n",
       "    .dataframe tbody tr th {\n",
       "        vertical-align: top;\n",
       "    }\n",
       "\n",
       "    .dataframe thead th {\n",
       "        text-align: right;\n",
       "    }\n",
       "</style>\n",
       "<table border=\"1\" class=\"dataframe\">\n",
       "  <thead>\n",
       "    <tr style=\"text-align: right;\">\n",
       "      <th></th>\n",
       "      <th>Gender</th>\n",
       "      <th>Age</th>\n",
       "    </tr>\n",
       "  </thead>\n",
       "  <tbody>\n",
       "    <tr>\n",
       "      <th>0</th>\n",
       "      <td>Female</td>\n",
       "      <td>39.613372</td>\n",
       "    </tr>\n",
       "    <tr>\n",
       "      <th>1</th>\n",
       "      <td>Male</td>\n",
       "      <td>29.910981</td>\n",
       "    </tr>\n",
       "    <tr>\n",
       "      <th>2</th>\n",
       "      <td>Female</td>\n",
       "      <td>34.390737</td>\n",
       "    </tr>\n",
       "    <tr>\n",
       "      <th>3</th>\n",
       "      <td>Male</td>\n",
       "      <td>41.432235</td>\n",
       "    </tr>\n",
       "    <tr>\n",
       "      <th>4</th>\n",
       "      <td>Female</td>\n",
       "      <td>43.189106</td>\n",
       "    </tr>\n",
       "  </tbody>\n",
       "</table>\n",
       "</div>"
      ],
      "text/plain": [
       "   Gender        Age\n",
       "0  Female  39.613372\n",
       "1    Male  29.910981\n",
       "2  Female  34.390737\n",
       "3    Male  41.432235\n",
       "4  Female  43.189106"
      ]
     },
     "execution_count": 83,
     "metadata": {},
     "output_type": "execute_result"
    }
   ],
   "source": [
    "data.head()"
   ]
  },
  {
   "cell_type": "code",
   "execution_count": 84,
   "id": "1e16e860",
   "metadata": {},
   "outputs": [
    {
     "data": {
      "text/plain": [
       "(array([6.7000e+01, 9.8500e+02, 6.7150e+03, 2.1501e+04, 3.3650e+04,\n",
       "        2.5747e+04, 9.4540e+03, 1.7340e+03, 1.4300e+02, 4.0000e+00]),\n",
       " array([19.74145319, 24.12631584, 28.51117849, 32.89604114, 37.2809038 ,\n",
       "        41.66576645, 46.0506291 , 50.43549175, 54.8203544 , 59.20521705,\n",
       "        63.59007971]),\n",
       " <BarContainer object of 10 artists>)"
      ]
     },
     "execution_count": 84,
     "metadata": {},
     "output_type": "execute_result"
    },
    {
     "data": {
      "image/png": "[encoded data removed]",
      "text/plain": [
       "<Figure size 432x288 with 1 Axes>"
      ]
     },
     "metadata": {
      "needs_background": "light"
     },
     "output_type": "display_data"
    }
   ],
   "source": [
    "import matplotlib.pyplot as plt\n",
    "plt.hist(data[\"Age\"])"
   ]
  },
  {
   "cell_type": "code",
   "execution_count": 85,
   "id": "74cad99d",
   "metadata": {},
   "outputs": [
    {
     "data": {
      "text/plain": [
       "count    100000.000000\n",
       "mean         40.011776\n",
       "std           5.000253\n",
       "min          19.741453\n",
       "25%          36.622945\n",
       "50%          40.033408\n",
       "75%          43.393597\n",
       "max          63.590080\n",
       "Name: Age, dtype: float64"
      ]
     },
     "execution_count": 85,
     "metadata": {},
     "output_type": "execute_result"
    }
   ],
   "source": [
    "data[\"Age\"].describe()"
   ]
  },
  {
   "cell_type": "code",
   "execution_count": 86,
   "id": "05041416",
   "metadata": {},
   "outputs": [],
   "source": [
    "grouped = data.groupby(\"Gender\")"
   ]
  },
  {
   "cell_type": "code",
   "execution_count": 87,
   "id": "5a73b811",
   "metadata": {},
   "outputs": [
    {
     "data": {
      "text/html": [
       "<div>\n",
       "<style scoped>\n",
       "    .dataframe tbody tr th:only-of-type {\n",
       "        vertical-align: middle;\n",
       "    }\n",
       "\n",
       "    .dataframe tbody tr th {\n",
       "        vertical-align: top;\n",
       "    }\n",
       "\n",
       "    .dataframe thead tr th {\n",
       "        text-align: left;\n",
       "    }\n",
       "\n",
       "    .dataframe thead tr:last-of-type th {\n",
       "        text-align: right;\n",
       "    }\n",
       "</style>\n",
       "<table border=\"1\" class=\"dataframe\">\n",
       "  <thead>\n",
       "    <tr>\n",
       "      <th></th>\n",
       "      <th colspan=\"8\" halign=\"left\">Age</th>\n",
       "    </tr>\n",
       "    <tr>\n",
       "      <th></th>\n",
       "      <th>count</th>\n",
       "      <th>mean</th>\n",
       "      <th>std</th>\n",
       "      <th>min</th>\n",
       "      <th>25%</th>\n",
       "      <th>50%</th>\n",
       "      <th>75%</th>\n",
       "      <th>max</th>\n",
       "    </tr>\n",
       "    <tr>\n",
       "      <th>Gender</th>\n",
       "      <th></th>\n",
       "      <th></th>\n",
       "      <th></th>\n",
       "      <th></th>\n",
       "      <th></th>\n",
       "      <th></th>\n",
       "      <th></th>\n",
       "      <th></th>\n",
       "    </tr>\n",
       "  </thead>\n",
       "  <tbody>\n",
       "    <tr>\n",
       "      <th>Female</th>\n",
       "      <td>50221.0</td>\n",
       "      <td>40.003364</td>\n",
       "      <td>4.99377</td>\n",
       "      <td>19.741453</td>\n",
       "      <td>36.632748</td>\n",
       "      <td>40.007320</td>\n",
       "      <td>43.374419</td>\n",
       "      <td>63.590080</td>\n",
       "    </tr>\n",
       "    <tr>\n",
       "      <th>Male</th>\n",
       "      <td>49779.0</td>\n",
       "      <td>40.020263</td>\n",
       "      <td>5.00682</td>\n",
       "      <td>21.011394</td>\n",
       "      <td>36.612377</td>\n",
       "      <td>40.061204</td>\n",
       "      <td>43.416469</td>\n",
       "      <td>60.297591</td>\n",
       "    </tr>\n",
       "  </tbody>\n",
       "</table>\n",
       "</div>"
      ],
      "text/plain": [
       "            Age                                                       \\\n",
       "          count       mean      std        min        25%        50%   \n",
       "Gender                                                                 \n",
       "Female  50221.0  40.003364  4.99377  19.741453  36.632748  40.007320   \n",
       "Male    49779.0  40.020263  5.00682  21.011394  36.612377  40.061204   \n",
       "\n",
       "                              \n",
       "              75%        max  \n",
       "Gender                        \n",
       "Female  43.374419  63.590080  \n",
       "Male    43.416469  60.297591  "
      ]
     },
     "execution_count": 87,
     "metadata": {},
     "output_type": "execute_result"
    }
   ],
   "source": [
    "grouped.describe()"
   ]
  },
  {
   "cell_type": "code",
   "execution_count": null,
   "id": "c455d5f5",
   "metadata": {},
   "outputs": [],
   "source": []
  }
 ],
 "metadata": {
  "kernelspec": {
   "display_name": "Python 3 (ipykernel)",
   "language": "python",
   "name": "python3"
  },
  "language_info": {
   "codemirror_mode": {
    "name": "ipython",
    "version": 3
   },
   "file_extension": ".py",
   "mimetype": "text/x-python",
   "name": "python",
   "nbconvert_exporter": "python",
   "pygments_lexer": "ipython3",
   "version": "3.9.7"
  }
 },
 "nbformat": 4,
 "nbformat_minor": 5
}
