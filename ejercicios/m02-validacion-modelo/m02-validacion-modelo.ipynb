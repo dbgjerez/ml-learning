{
 "cells": [
  {
   "cell_type": "markdown",
   "id": "ba095dd4",
   "metadata": {},
   "source": [
    "# Validación modelo"
   ]
  },
  {
   "cell_type": "markdown",
   "id": "69eccfd0",
   "metadata": {},
   "source": [
    "## División del dataset en entrenamiento y testing"
   ]
  },
  {
   "cell_type": "code",
   "execution_count": 7,
   "id": "08afadeb",
   "metadata": {},
   "outputs": [],
   "source": [
    "import pandas as pd\n",
    "import numpy as np\n",
    "import matplotlib.pyplot as plt"
   ]
  },
  {
   "cell_type": "code",
   "execution_count": 8,
   "id": "eb1c831b",
   "metadata": {},
   "outputs": [],
   "source": [
    "CSV_URL = \"https://raw.githubusercontent.com/dbgjerez/ml-learning/main/ejercicios/c02-regresion-lineal-python/advertising.csv\"\n",
    "data = pd.read_csv(CSV_URL)"
   ]
  },
  {
   "cell_type": "markdown",
   "id": "c95054b6",
   "metadata": {},
   "source": [
    "> NOTE: se puede dividir el modelo con diferentes mecanismos, ya vistos en la parte de teoria"
   ]
  },
  {
   "cell_type": "code",
   "execution_count": 18,
   "id": "add9db3c",
   "metadata": {},
   "outputs": [],
   "source": [
    "np.random.seed(2022)\n",
    "randoms = np.random.randn(len(data))"
   ]
  },
  {
   "cell_type": "code",
   "execution_count": 19,
   "id": "6dde6fb1",
   "metadata": {},
   "outputs": [
    {
     "data": {
      "text/plain": [
       "(array([ 1.,  6., 14., 19., 31., 39., 43., 33.,  6.,  8.]),\n",
       " array([-2.95743224, -2.42952011, -1.90160798, -1.37369585, -0.84578372,\n",
       "        -0.31787159,  0.21004054,  0.73795267,  1.2658648 ,  1.79377692,\n",
       "         2.32168905]),\n",
       " <BarContainer object of 10 artists>)"
      ]
     },
     "execution_count": 19,
     "metadata": {},
     "output_type": "execute_result"
    },
    {
     "data": {
      "image/png": "[encoded data removed]",
      "text/plain": [
       "<Figure size 432x288 with 1 Axes>"
      ]
     },
     "metadata": {
      "needs_background": "light"
     },
     "output_type": "display_data"
    }
   ],
   "source": [
    "plt.hist(randoms)"
   ]
  },
  {
   "cell_type": "code",
   "execution_count": 25,
   "id": "ba36acdf",
   "metadata": {},
   "outputs": [
    {
     "data": {
      "text/plain": [
       "(159, 41)"
      ]
     },
     "execution_count": 25,
     "metadata": {},
     "output_type": "execute_result"
    }
   ],
   "source": [
    "training = data[(randoms<0.8)]\n",
    "testing = data[~(randoms<0.8)]\n",
    "len(training), len(testing)"
   ]
  },
  {
   "cell_type": "code",
   "execution_count": 28,
   "id": "ae244388",
   "metadata": {},
   "outputs": [],
   "source": [
    "import statsmodels.formula.api as smf\n",
    "lm = smf.ols(formula=\"Sales~TV+Radio\", data=training).fit()"
   ]
  },
  {
   "cell_type": "code",
   "execution_count": 29,
   "id": "28a85972",
   "metadata": {},
   "outputs": [
    {
     "data": {
      "text/html": [
       "<table class=\"simpletable\">\n",
       "<caption>OLS Regression Results</caption>\n",
       "<tr>\n",
       "  <th>Dep. Variable:</th>          <td>Sales</td>      <th>  R-squared:         </th> <td>   0.909</td>\n",
       "</tr>\n",
       "<tr>\n",
       "  <th>Model:</th>                   <td>OLS</td>       <th>  Adj. R-squared:    </th> <td>   0.908</td>\n",
       "</tr>\n",
       "<tr>\n",
       "  <th>Method:</th>             <td>Least Squares</td>  <th>  F-statistic:       </th> <td>   783.1</td>\n",
       "</tr>\n",
       "<tr>\n",
       "  <th>Date:</th>             <td>Fri, 03 Jun 2022</td> <th>  Prob (F-statistic):</th> <td>4.44e-82</td>\n",
       "</tr>\n",
       "<tr>\n",
       "  <th>Time:</th>                 <td>12:49:17</td>     <th>  Log-Likelihood:    </th> <td> -293.60</td>\n",
       "</tr>\n",
       "<tr>\n",
       "  <th>No. Observations:</th>      <td>   159</td>      <th>  AIC:               </th> <td>   593.2</td>\n",
       "</tr>\n",
       "<tr>\n",
       "  <th>Df Residuals:</th>          <td>   156</td>      <th>  BIC:               </th> <td>   602.4</td>\n",
       "</tr>\n",
       "<tr>\n",
       "  <th>Df Model:</th>              <td>     2</td>      <th>                     </th>     <td> </td>   \n",
       "</tr>\n",
       "<tr>\n",
       "  <th>Covariance Type:</th>      <td>nonrobust</td>    <th>                     </th>     <td> </td>   \n",
       "</tr>\n",
       "</table>\n",
       "<table class=\"simpletable\">\n",
       "<tr>\n",
       "      <td></td>         <th>coef</th>     <th>std err</th>      <th>t</th>      <th>P>|t|</th>  <th>[0.025</th>    <th>0.975]</th>  \n",
       "</tr>\n",
       "<tr>\n",
       "  <th>Intercept</th> <td>    3.0591</td> <td>    0.306</td> <td>   10.003</td> <td> 0.000</td> <td>    2.455</td> <td>    3.663</td>\n",
       "</tr>\n",
       "<tr>\n",
       "  <th>TV</th>        <td>    0.0444</td> <td>    0.001</td> <td>   31.189</td> <td> 0.000</td> <td>    0.042</td> <td>    0.047</td>\n",
       "</tr>\n",
       "<tr>\n",
       "  <th>Radio</th>     <td>    0.1918</td> <td>    0.008</td> <td>   22.610</td> <td> 0.000</td> <td>    0.175</td> <td>    0.209</td>\n",
       "</tr>\n",
       "</table>\n",
       "<table class=\"simpletable\">\n",
       "<tr>\n",
       "  <th>Omnibus:</th>       <td>25.328</td> <th>  Durbin-Watson:     </th> <td>   2.065</td>\n",
       "</tr>\n",
       "<tr>\n",
       "  <th>Prob(Omnibus):</th> <td> 0.000</td> <th>  Jarque-Bera (JB):  </th> <td>  31.812</td>\n",
       "</tr>\n",
       "<tr>\n",
       "  <th>Skew:</th>          <td>-1.013</td> <th>  Prob(JB):          </th> <td>1.24e-07</td>\n",
       "</tr>\n",
       "<tr>\n",
       "  <th>Kurtosis:</th>      <td> 3.835</td> <th>  Cond. No.          </th> <td>    432.</td>\n",
       "</tr>\n",
       "</table><br/><br/>Notes:<br/>[1] Standard Errors assume that the covariance matrix of the errors is correctly specified."
      ],
      "text/plain": [
       "<class 'statsmodels.iolib.summary.Summary'>\n",
       "\"\"\"\n",
       "                            OLS Regression Results                            \n",
       "==============================================================================\n",
       "Dep. Variable:                  Sales   R-squared:                       0.909\n",
       "Model:                            OLS   Adj. R-squared:                  0.908\n",
       "Method:                 Least Squares   F-statistic:                     783.1\n",
       "Date:                Fri, 03 Jun 2022   Prob (F-statistic):           4.44e-82\n",
       "Time:                        12:49:17   Log-Likelihood:                -293.60\n",
       "No. Observations:                 159   AIC:                             593.2\n",
       "Df Residuals:                     156   BIC:                             602.4\n",
       "Df Model:                           2                                         \n",
       "Covariance Type:            nonrobust                                         \n",
       "==============================================================================\n",
       "                 coef    std err          t      P>|t|      [0.025      0.975]\n",
       "------------------------------------------------------------------------------\n",
       "Intercept      3.0591      0.306     10.003      0.000       2.455       3.663\n",
       "TV             0.0444      0.001     31.189      0.000       0.042       0.047\n",
       "Radio          0.1918      0.008     22.610      0.000       0.175       0.209\n",
       "==============================================================================\n",
       "Omnibus:                       25.328   Durbin-Watson:                   2.065\n",
       "Prob(Omnibus):                  0.000   Jarque-Bera (JB):               31.812\n",
       "Skew:                          -1.013   Prob(JB):                     1.24e-07\n",
       "Kurtosis:                       3.835   Cond. No.                         432.\n",
       "==============================================================================\n",
       "\n",
       "Notes:\n",
       "[1] Standard Errors assume that the covariance matrix of the errors is correctly specified.\n",
       "\"\"\""
      ]
     },
     "execution_count": 29,
     "metadata": {},
     "output_type": "execute_result"
    }
   ],
   "source": [
    "lm.summary()"
   ]
  },
  {
   "cell_type": "markdown",
   "id": "841d09d6",
   "metadata": {},
   "source": [
    "> Modelo resultante: ```sales = 3.0591 + 0.0444 * TV + 0.1918 * Radio```"
   ]
  },
  {
   "cell_type": "markdown",
   "id": "d2eec9b3",
   "metadata": {},
   "source": [
    "## Validación del modelo con el conjunto de testing"
   ]
  },
  {
   "cell_type": "code",
   "execution_count": 30,
   "id": "6739ce7d",
   "metadata": {},
   "outputs": [],
   "source": [
    "sales_pred = lm.predict(testing)"
   ]
  },
  {
   "cell_type": "code",
   "execution_count": 34,
   "id": "05f696aa",
   "metadata": {},
   "outputs": [
    {
     "data": {
      "text/plain": [
       "0.1604770824813812"
      ]
     },
     "execution_count": 34,
     "metadata": {},
     "output_type": "execute_result"
    }
   ],
   "source": [
    "SSD = sum((testing[\"Sales\"]-sales_pred)**2)\n",
    "RSE = np.sqrt(SSD/(len(testing)-2-1))\n",
    "sales_mean = np.mean(testing[\"Sales\"])\n",
    "error = RSE/sales_mean\n",
    "error"
   ]
  },
  {
   "cell_type": "markdown",
   "id": "7406d790",
   "metadata": {},
   "source": [
    "El modelo es bastante bueno ya que tanto en testing como en el modelo da resultados similares. Cambia algo porque el csv no es muy extenso"
   ]
  },
  {
   "cell_type": "code",
   "execution_count": null,
   "id": "caeb22b1",
   "metadata": {},
   "outputs": [],
   "source": []
  }
 ],
 "metadata": {
  "kernelspec": {
   "display_name": "Python 3 (ipykernel)",
   "language": "python",
   "name": "python3"
  },
  "language_info": {
   "codemirror_mode": {
    "name": "ipython",
    "version": 3
   },
   "file_extension": ".py",
   "mimetype": "text/x-python",
   "name": "python",
   "nbconvert_exporter": "python",
   "pygments_lexer": "ipython3",
   "version": "3.9.7"
  }
 },
 "nbformat": 4,
 "nbformat_minor": 5
}
